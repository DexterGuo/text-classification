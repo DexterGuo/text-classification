{
 "cells": [
  {
   "cell_type": "code",
   "execution_count": 64,
   "metadata": {
    "collapsed": true
   },
   "outputs": [],
   "source": [
    "from collections import Counter\n",
    "import numpy as np"
   ]
  },
  {
   "cell_type": "code",
   "execution_count": 65,
   "metadata": {
    "collapsed": true
   },
   "outputs": [],
   "source": [
    "def read_titles(filename):\n",
    "    with open(filename, 'r', encoding='utf-8') as f:\n",
    "        labels = []\n",
    "        titles = []\n",
    "        for line in f:\n",
    "            labels.append(line.split('\\t')[0])\n",
    "            titles.append(line.split('\\t')[1])\n",
    "    return titles, labels"
   ]
  },
  {
   "cell_type": "code",
   "execution_count": 66,
   "metadata": {
    "collapsed": false,
    "scrolled": false
   },
   "outputs": [],
   "source": [
    "titles_train, labels_train= read_titles('../train.txt')\n",
    "titles_val, labels_val= read_titles('../val.txt')\n",
    "titles_test, labels_test= read_titles('../test.txt')"
   ]
  },
  {
   "cell_type": "code",
   "execution_count": 67,
   "metadata": {
    "collapsed": false
   },
   "outputs": [
    {
     "name": "stdout",
     "output_type": "stream",
     "text": [
      "50000 50000\n",
      "5000 5000\n",
      "10000 10000\n"
     ]
    }
   ],
   "source": [
    "print(len(titles_train), len(labels_train))\n",
    "print(len(titles_val), len(labels_val))\n",
    "print(len(titles_test), len(labels_test))"
   ]
  },
  {
   "cell_type": "code",
   "execution_count": 68,
   "metadata": {
    "collapsed": false
   },
   "outputs": [],
   "source": [
    "text = open('../train.txt', 'r', encoding='utf-8').read().strip()\n",
    "text += open('../val.txt', 'r', encoding='utf-8').read().strip()\n",
    "text += open('../test.txt', 'r', encoding='utf-8').read().strip()\n",
    "text = text.replace('\\u3000', '').replace('\\t', '').replace('\\n', '')\n",
    "\n",
    "counter = Counter(list(text))\n",
    "count_pairs = sorted(counter.items(), key=lambda x: -x[1])\n",
    "words, _ = zip(*count_pairs)"
   ]
  },
  {
   "cell_type": "code",
   "execution_count": 69,
   "metadata": {
    "collapsed": false
   },
   "outputs": [],
   "source": [
    "vocab = words[:5000]\n",
    "word_to_index = dict((c, i) for i, c in enumerate(vocab))\n",
    "index_to_word = dict((i, c) for i, c in enumerate(vocab))"
   ]
  },
  {
   "cell_type": "code",
   "execution_count": 70,
   "metadata": {
    "collapsed": false
   },
   "outputs": [],
   "source": [
    "labels_set = set(labels_val)\n",
    "label_to_index = dict((c, i) for i, c in enumerate(labels_set))\n",
    "index_to_label = dict((i, c) for i, c in enumerate(labels_set))"
   ]
  },
  {
   "cell_type": "code",
   "execution_count": 71,
   "metadata": {
    "collapsed": false
   },
   "outputs": [],
   "source": [
    "def vectorization(titles, labels):\n",
    "    X = []\n",
    "    Y = []\n",
    "    for i in range(len(titles)):\n",
    "        X.append([word_to_index[x] for x in titles[i] if x in word_to_index])\n",
    "        y = np.zeros((len(labels_set)))\n",
    "        y[label_to_index[labels[i]]] = 1\n",
    "        Y.append(y)\n",
    "    return X, Y"
   ]
  },
  {
   "cell_type": "code",
   "execution_count": 72,
   "metadata": {
    "collapsed": false
   },
   "outputs": [],
   "source": [
    "X_val, Y_val = vectorization(titles_val, labels_val)"
   ]
  },
  {
   "cell_type": "code",
   "execution_count": 73,
   "metadata": {
    "collapsed": false
   },
   "outputs": [
    {
     "data": {
      "text/plain": [
       "[77,\n",
       " 1576,\n",
       " 1526,\n",
       " 69,\n",
       " 106,\n",
       " 17,\n",
       " 398,\n",
       " 70,\n",
       " 69,\n",
       " 992,\n",
       " 132,\n",
       " 119,\n",
       " 423,\n",
       " 360,\n",
       " 645,\n",
       " 266,\n",
       " 1429,\n",
       " 266,\n",
       " 645,\n",
       " 808,\n",
       " 272,\n",
       " 599,\n",
       " 662,\n",
       " 17,\n",
       " 7,\n",
       " 10,\n",
       " 10,\n",
       " 307,\n",
       " 97,\n",
       " 77,\n",
       " 171,\n",
       " 180]"
      ]
     },
     "execution_count": 73,
     "metadata": {},
     "output_type": "execute_result"
    }
   ],
   "source": [
    "X_val[0]"
   ]
  },
  {
   "cell_type": "code",
   "execution_count": 77,
   "metadata": {
    "collapsed": false
   },
   "outputs": [
    {
     "name": "stdout",
     "output_type": "stream",
     "text": [
      "汽车\n",
      "汽车\n",
      "汽车\n",
      "汽车\n",
      "汽车\n",
      "汽车\n",
      "汽车\n",
      "汽车\n",
      "汽车\n",
      "汽车\n",
      "汽车\n",
      "汽车\n",
      "汽车\n",
      "汽车\n",
      "汽车\n",
      "汽车\n",
      "汽车\n",
      "汽车\n",
      "汽车\n",
      "汽车\n",
      "汽车\n",
      "汽车\n",
      "汽车\n",
      "汽车\n",
      "汽车\n",
      "汽车\n",
      "汽车\n",
      "汽车\n",
      "汽车\n",
      "汽车\n",
      "汽车\n",
      "汽车\n",
      "汽车\n",
      "汽车\n",
      "汽车\n",
      "汽车\n",
      "汽车\n",
      "汽车\n",
      "汽车\n",
      "汽车\n",
      "汽车\n",
      "汽车\n",
      "汽车\n",
      "汽车\n",
      "汽车\n",
      "汽车\n",
      "汽车\n",
      "汽车\n",
      "汽车\n",
      "汽车\n",
      "汽车\n",
      "汽车\n",
      "汽车\n",
      "汽车\n",
      "汽车\n",
      "汽车\n",
      "汽车\n",
      "汽车\n",
      "汽车\n",
      "汽车\n",
      "汽车\n",
      "汽车\n",
      "汽车\n",
      "汽车\n",
      "汽车\n",
      "汽车\n",
      "汽车\n",
      "汽车\n",
      "汽车\n",
      "汽车\n",
      "汽车\n",
      "汽车\n",
      "汽车\n",
      "汽车\n",
      "汽车\n",
      "汽车\n",
      "汽车\n",
      "汽车\n",
      "汽车\n",
      "汽车\n",
      "汽车\n",
      "汽车\n",
      "汽车\n",
      "汽车\n",
      "汽车\n",
      "汽车\n",
      "汽车\n",
      "汽车\n",
      "汽车\n",
      "汽车\n",
      "汽车\n",
      "汽车\n",
      "汽车\n",
      "汽车\n",
      "汽车\n",
      "汽车\n",
      "汽车\n",
      "汽车\n",
      "汽车\n",
      "汽车\n"
     ]
    }
   ],
   "source": [
    "for i in range(100):\n",
    "    print(index_to_label[np.argmax(Y_val[i])])"
   ]
  }
 ],
 "metadata": {
  "kernelspec": {
   "display_name": "Python 3",
   "language": "python",
   "name": "python3"
  },
  "language_info": {
   "codemirror_mode": {
    "name": "ipython",
    "version": 3
   },
   "file_extension": ".py",
   "mimetype": "text/x-python",
   "name": "python",
   "nbconvert_exporter": "python",
   "pygments_lexer": "ipython3",
   "version": "3.5.3"
  }
 },
 "nbformat": 4,
 "nbformat_minor": 2
}
