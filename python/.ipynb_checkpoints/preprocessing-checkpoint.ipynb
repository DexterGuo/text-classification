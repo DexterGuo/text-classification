{
 "cells": [
  {
   "cell_type": "code",
   "execution_count": 52,
   "metadata": {
    "collapsed": true
   },
   "outputs": [],
   "source": [
    "from collections import Counter\n",
    "def read_titles(filename):\n",
    "    with open(filename, 'r', encoding='utf-8') as f:\n",
    "        labels = []\n",
    "        titles = []\n",
    "        for line in f:\n",
    "            labels.append(line.split('\\t')[0])\n",
    "            titles.append(line.split('\\t')[1])\n",
    "    return titles, labels"
   ]
  },
  {
   "cell_type": "code",
   "execution_count": 53,
   "metadata": {
    "collapsed": false,
    "scrolled": false
   },
   "outputs": [],
   "source": [
    "titles_train, labels_train= read_titles('../train.txt')\n",
    "titles_val, labels_val= read_titles('../val.txt')\n",
    "titles_test, labels_test= read_titles('../test.txt')"
   ]
  },
  {
   "cell_type": "code",
   "execution_count": 54,
   "metadata": {
    "collapsed": false
   },
   "outputs": [
    {
     "name": "stdout",
     "output_type": "stream",
     "text": [
      "50000 50000\n",
      "5000 5000\n",
      "10000 10000\n"
     ]
    }
   ],
   "source": [
    "print(len(titles_train), len(labels_train))\n",
    "print(len(titles_val), len(labels_val))\n",
    "print(len(titles_test), len(labels_test))"
   ]
  },
  {
   "cell_type": "code",
   "execution_count": 55,
   "metadata": {
    "collapsed": false
   },
   "outputs": [],
   "source": [
    "text = open('../train.txt', 'r', encoding='utf-8').read().strip()\n",
    "text += open('../val.txt', 'r', encoding='utf-8').read().strip()\n",
    "text += open('../test.txt', 'r', encoding='utf-8').read().strip()\n",
    "text = text.replace('\\u3000', '').replace('\\t', '').replace('\\n', '')\n",
    "\n",
    "counter = Counter(list(text))\n",
    "count_pairs = sorted(counter.items(), key=lambda x: -x[1])\n",
    "words, _ = zip(*count_pairs)"
   ]
  },
  {
   "cell_type": "code",
   "execution_count": 56,
   "metadata": {
    "collapsed": false
   },
   "outputs": [],
   "source": [
    "vocab = words[:5000]\n",
    "word_to_index = dict((c, i) for i, c in enumerate(vocab))\n",
    "index_to_word = dict((i, c) for i, c in enumerate(vocab))"
   ]
  },
  {
   "cell_type": "code",
   "execution_count": 58,
   "metadata": {
    "collapsed": false
   },
   "outputs": [],
   "source": [
    "labels_set = set(labels_val)\n",
    "label_to_index = dict((c, i) for i, c in enumerate(labels_set))\n",
    "index_to_label = dict((i, c) for i, c in enumerate(labels_set))"
   ]
  },
  {
   "cell_type": "code",
   "execution_count": 60,
   "metadata": {
    "collapsed": false
   },
   "outputs": [
    {
     "data": {
      "text/plain": [
       "{'体育': 8,\n",
       " '健康': 3,\n",
       " '军事': 5,\n",
       " '娱乐': 4,\n",
       " '教育': 1,\n",
       " '文化': 2,\n",
       " '时尚': 0,\n",
       " '汽车': 7,\n",
       " '科技': 6,\n",
       " '财经': 9}"
      ]
     },
     "execution_count": 60,
     "metadata": {},
     "output_type": "execute_result"
    }
   ],
   "source": []
  },
  {
   "cell_type": "code",
   "execution_count": 61,
   "metadata": {
    "collapsed": false
   },
   "outputs": [
    {
     "data": {
      "text/plain": [
       "{0: '时尚',\n",
       " 1: '教育',\n",
       " 2: '文化',\n",
       " 3: '健康',\n",
       " 4: '娱乐',\n",
       " 5: '军事',\n",
       " 6: '科技',\n",
       " 7: '汽车',\n",
       " 8: '体育',\n",
       " 9: '财经'}"
      ]
     },
     "execution_count": 61,
     "metadata": {},
     "output_type": "execute_result"
    }
   ],
   "source": []
  }
 ],
 "metadata": {
  "kernelspec": {
   "display_name": "Python 3",
   "language": "python",
   "name": "python3"
  },
  "language_info": {
   "codemirror_mode": {
    "name": "ipython",
    "version": 3
   },
   "file_extension": ".py",
   "mimetype": "text/x-python",
   "name": "python",
   "nbconvert_exporter": "python",
   "pygments_lexer": "ipython3",
   "version": "3.5.3"
  }
 },
 "nbformat": 4,
 "nbformat_minor": 2
}
