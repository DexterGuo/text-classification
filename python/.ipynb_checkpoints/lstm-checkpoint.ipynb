{
 "cells": [
  {
   "cell_type": "code",
   "execution_count": 17,
   "metadata": {
    "collapsed": false,
    "deletable": true,
    "editable": true
   },
   "outputs": [],
   "source": [
    "from collections import Counter\n",
    "import numpy as np\n",
    "from keras.preprocessing import sequence\n",
    "from keras.models import Sequential\n",
    "from keras.layers import Embedding, LSTM, Dense"
   ]
  },
  {
   "cell_type": "code",
   "execution_count": 18,
   "metadata": {
    "collapsed": true,
    "deletable": true,
    "editable": true
   },
   "outputs": [],
   "source": [
    "def read_titles(filename):\n",
    "    with open(filename, 'r', encoding='utf-8') as f:\n",
    "        labels = []\n",
    "        titles = []\n",
    "        for line in f:\n",
    "            labels.append(line.split('\\t')[0])\n",
    "            titles.append(line.split('\\t')[1])\n",
    "    return titles, labels"
   ]
  },
  {
   "cell_type": "code",
   "execution_count": 19,
   "metadata": {
    "collapsed": false,
    "deletable": true,
    "editable": true,
    "scrolled": false
   },
   "outputs": [],
   "source": [
    "titles_train, labels_train= read_titles('../train.txt')\n",
    "titles_val, labels_val= read_titles('../val.txt')\n",
    "titles_test, labels_test= read_titles('../test.txt')"
   ]
  },
  {
   "cell_type": "code",
   "execution_count": 20,
   "metadata": {
    "collapsed": false,
    "deletable": true,
    "editable": true
   },
   "outputs": [
    {
     "name": "stdout",
     "output_type": "stream",
     "text": [
      "50000 50000\n",
      "5000 5000\n",
      "10000 10000\n"
     ]
    }
   ],
   "source": [
    "print(len(titles_train), len(labels_train))\n",
    "print(len(titles_val), len(labels_val))\n",
    "print(len(titles_test), len(labels_test))"
   ]
  },
  {
   "cell_type": "code",
   "execution_count": 21,
   "metadata": {
    "collapsed": false,
    "deletable": true,
    "editable": true
   },
   "outputs": [],
   "source": [
    "text = \"\"\n",
    "for line in titles_train + titles_val + titles_test:\n",
    "    text += line\n",
    "text = text.replace('\\u3000', '').replace('\\t', '').replace('\\n', '')\n",
    "\n",
    "counter = Counter(list(text))\n",
    "count_pairs = sorted(counter.items(), key=lambda x: -x[1])\n",
    "words, _ = zip(*count_pairs)"
   ]
  },
  {
   "cell_type": "code",
   "execution_count": 22,
   "metadata": {
    "collapsed": false,
    "deletable": true,
    "editable": true
   },
   "outputs": [],
   "source": [
    "vocab = words\n",
    "word_to_index = dict((c, i) for i, c in enumerate(vocab))\n",
    "index_to_word = dict((i, c) for i, c in enumerate(vocab))"
   ]
  },
  {
   "cell_type": "code",
   "execution_count": 23,
   "metadata": {
    "collapsed": false,
    "deletable": true,
    "editable": true
   },
   "outputs": [],
   "source": [
    "labels_set = set(labels_val)\n",
    "label_to_index = dict((c, i) for i, c in enumerate(labels_set))\n",
    "index_to_label = dict((i, c) for i, c in enumerate(labels_set))"
   ]
  },
  {
   "cell_type": "code",
   "execution_count": 24,
   "metadata": {
    "collapsed": false,
    "deletable": true,
    "editable": true
   },
   "outputs": [],
   "source": [
    "def vectorization(titles, labels):\n",
    "    X = []\n",
    "    Y = np.zeros((len(titles), len(labels_set)))\n",
    "    for i in range(len(titles)):\n",
    "        X.append([word_to_index[x] for x in titles[i] if x in word_to_index])\n",
    "        Y[i][label_to_index[labels[i]]] = 1\n",
    "    return X, Y"
   ]
  },
  {
   "cell_type": "code",
   "execution_count": 25,
   "metadata": {
    "collapsed": false,
    "deletable": true,
    "editable": true
   },
   "outputs": [],
   "source": [
    "X_train, Y_train = vectorization(titles_train, labels_train)\n",
    "X_test, Y_test = vectorization(titles_test, labels_test)\n",
    "X_val, Y_val = vectorization(titles_val, labels_val)\n",
    "maxlen = max(map(len, X_train + X_test + X_val))\n",
    "\n",
    "X_train = sequence.pad_sequences(X_train, maxlen);\n",
    "X_test = sequence.pad_sequences(X_test, maxlen);\n",
    "X_val = sequence.pad_sequences(X_val, maxlen);"
   ]
  },
  {
   "cell_type": "code",
   "execution_count": 26,
   "metadata": {
    "collapsed": false,
    "deletable": true,
    "editable": true
   },
   "outputs": [],
   "source": [
    "def data_shuffle(X, Y):\n",
    "    arr = np.arange(len(X))\n",
    "    np.random.shuffle(arr)\n",
    "    X = X[arr]\n",
    "    Y = Y[arr]\n",
    "    return X, Y\n",
    "\n",
    "X_train, Y_train = data_shuffle(X_train, Y_train)\n",
    "X_test, Y_test = data_shuffle(X_test, Y_test)\n",
    "X_val, Y_val = data_shuffle(X_val, Y_val)"
   ]
  },
  {
   "cell_type": "code",
   "execution_count": 32,
   "metadata": {
    "collapsed": false,
    "deletable": true,
    "editable": true
   },
   "outputs": [
    {
     "name": "stdout",
     "output_type": "stream",
     "text": [
      "_________________________________________________________________\n",
      "Layer (type)                 Output Shape              Param #   \n",
      "=================================================================\n",
      "embedding_4 (Embedding)      (None, None, 128)         568192    \n",
      "_________________________________________________________________\n",
      "lstm_5 (LSTM)                (None, None, 128)         131584    \n",
      "_________________________________________________________________\n",
      "lstm_6 (LSTM)                (None, 128)               131584    \n",
      "_________________________________________________________________\n",
      "dense_3 (Dense)              (None, 10)                1290      \n",
      "=================================================================\n",
      "Total params: 832,650.0\n",
      "Trainable params: 832,650\n",
      "Non-trainable params: 0.0\n",
      "_________________________________________________________________\n"
     ]
    }
   ],
   "source": [
    "model = Sequential()\n",
    "model.add(Embedding(len(vocab), 128))\n",
    "model.add(LSTM(128, return_sequences=True))\n",
    "model.add(LSTM(128))\n",
    "model.add(Dense(len(labels_set), activation='softmax'))\n",
    "model.summary()"
   ]
  },
  {
   "cell_type": "code",
   "execution_count": 33,
   "metadata": {
    "collapsed": true,
    "deletable": true,
    "editable": true
   },
   "outputs": [],
   "source": [
    "model.compile(loss='categorical_crossentropy',\n",
    "             optimizer='adam',\n",
    "             metrics=['accuracy'])"
   ]
  },
  {
   "cell_type": "code",
   "execution_count": 34,
   "metadata": {
    "collapsed": false,
    "deletable": true,
    "editable": true
   },
   "outputs": [
    {
     "name": "stdout",
     "output_type": "stream",
     "text": [
      "Train on 50000 samples, validate on 5000 samples\n",
      "Epoch 1/20\n",
      "38s - loss: 1.1160 - acc: 0.6285 - val_loss: 0.8474 - val_acc: 0.7290\n",
      "Epoch 2/20\n",
      "37s - loss: 0.6677 - acc: 0.7919 - val_loss: 0.7424 - val_acc: 0.7628\n",
      "Epoch 3/20\n",
      "37s - loss: 0.5310 - acc: 0.8340 - val_loss: 0.7139 - val_acc: 0.7694\n",
      "Epoch 4/20\n",
      "37s - loss: 0.4575 - acc: 0.8564 - val_loss: 0.7326 - val_acc: 0.7804\n",
      "Epoch 5/20\n",
      "37s - loss: 0.3993 - acc: 0.8746 - val_loss: 0.7005 - val_acc: 0.7854\n",
      "Epoch 6/20\n",
      "37s - loss: 0.3544 - acc: 0.8883 - val_loss: 0.7662 - val_acc: 0.7806\n",
      "Epoch 7/20\n",
      "37s - loss: 0.3167 - acc: 0.8995 - val_loss: 0.7432 - val_acc: 0.7892\n",
      "Epoch 8/20\n",
      "37s - loss: 0.2805 - acc: 0.9133 - val_loss: 0.7642 - val_acc: 0.7902\n",
      "Epoch 9/20\n",
      "37s - loss: 0.2515 - acc: 0.9213 - val_loss: 0.8155 - val_acc: 0.7910\n",
      "Epoch 10/20\n",
      "37s - loss: 0.2247 - acc: 0.9306 - val_loss: 0.8351 - val_acc: 0.7976\n",
      "Epoch 11/20\n",
      "37s - loss: 0.2014 - acc: 0.9373 - val_loss: 0.8351 - val_acc: 0.7974\n",
      "Epoch 12/20\n",
      "38s - loss: 0.1800 - acc: 0.9447 - val_loss: 0.8899 - val_acc: 0.7918\n",
      "Epoch 13/20\n",
      "37s - loss: 0.1591 - acc: 0.9508 - val_loss: 0.8898 - val_acc: 0.7948\n",
      "Epoch 14/20\n",
      "37s - loss: 0.1385 - acc: 0.9566 - val_loss: 0.9349 - val_acc: 0.8010\n",
      "Epoch 15/20\n",
      "37s - loss: 0.1259 - acc: 0.9606 - val_loss: 0.9651 - val_acc: 0.7984\n",
      "Epoch 16/20\n",
      "37s - loss: 0.1135 - acc: 0.9644 - val_loss: 1.0112 - val_acc: 0.7990\n",
      "Epoch 17/20\n",
      "37s - loss: 0.1032 - acc: 0.9672 - val_loss: 1.0397 - val_acc: 0.7990\n",
      "Epoch 18/20\n",
      "37s - loss: 0.0921 - acc: 0.9710 - val_loss: 1.1307 - val_acc: 0.7954\n",
      "Epoch 19/20\n",
      "37s - loss: 0.0792 - acc: 0.9753 - val_loss: 1.1330 - val_acc: 0.7996\n",
      "Epoch 20/20\n",
      "37s - loss: 0.0757 - acc: 0.9762 - val_loss: 1.1907 - val_acc: 0.7928\n"
     ]
    },
    {
     "data": {
      "text/plain": [
       "<keras.callbacks.History at 0x2b3fa975fd0>"
      ]
     },
     "execution_count": 34,
     "metadata": {},
     "output_type": "execute_result"
    }
   ],
   "source": [
    "model.fit(X_train, Y_train, batch_size=128, epochs=20, validation_data=(X_val, Y_val), verbose=2)"
   ]
  },
  {
   "cell_type": "code",
   "execution_count": 30,
   "metadata": {
    "collapsed": false,
    "deletable": true,
    "editable": true
   },
   "outputs": [
    {
     "name": "stdout",
     "output_type": "stream",
     "text": [
      "Test score: 1.24192916412\n",
      "Test accuracy: 0.7879\n"
     ]
    }
   ],
   "source": [
    "score, acc = model.evaluate(X_test, Y_test, batch_size=64, verbose=2)\n",
    "print('Test score:', score)\n",
    "print('Test accuracy:', acc)"
   ]
  }
 ],
 "metadata": {
  "kernelspec": {
   "display_name": "Python 3",
   "language": "python",
   "name": "python3"
  },
  "language_info": {
   "codemirror_mode": {
    "name": "ipython",
    "version": 3
   },
   "file_extension": ".py",
   "mimetype": "text/x-python",
   "name": "python",
   "nbconvert_exporter": "python",
   "pygments_lexer": "ipython3",
   "version": "3.5.3"
  }
 },
 "nbformat": 4,
 "nbformat_minor": 2
}
