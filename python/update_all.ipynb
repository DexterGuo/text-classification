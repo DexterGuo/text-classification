{
 "cells": [
  {
   "cell_type": "code",
   "execution_count": 12,
   "metadata": {
    "collapsed": true
   },
   "outputs": [],
   "source": [
    "from collections import Counter"
   ]
  },
  {
   "cell_type": "code",
   "execution_count": 2,
   "metadata": {
    "collapsed": true
   },
   "outputs": [],
   "source": [
    "def read_data(filename):\n",
    "    with open(filename, 'r', encoding='utf-8') as f:\n",
    "        lines = f.readlines()\n",
    "        titles = [line.split('\\t')[0] for line in lines]\n",
    "        urls = [line.split('\\t')[1] for line in lines]\n",
    "        docnos = [line.split('\\t')[2] for line in lines]\n",
    "        contents = [line.split('\\t')[3] for line in lines]\n",
    "        return titles, urls, docnos, contents"
   ]
  },
  {
   "cell_type": "code",
   "execution_count": 3,
   "metadata": {
    "collapsed": true
   },
   "outputs": [],
   "source": [
    "titles, urls, docnos, contents = read_data('../output_all.txt')"
   ]
  },
  {
   "cell_type": "code",
   "execution_count": 10,
   "metadata": {
    "collapsed": true
   },
   "outputs": [],
   "source": [
    "def counter_batch(data, batch_size):\n",
    "    counter = Counter()\n",
    "    batch_num = len(data) // batch_size\n",
    "    \n",
    "    for i in range(batch_num-1):\n",
    "        text = []\n",
    "        for line in data[i*batch_size:(i+1)*batch_size]:\n",
    "            text += line\n",
    "        counter += Counter(text)\n",
    "    \n",
    "    text = []\n",
    "    for line in data[batch_size*(batch_num-1):]:\n",
    "        text += line\n",
    "    counter += Counter(text)\n",
    "    \n",
    "    return counter"
   ]
  },
  {
   "cell_type": "code",
   "execution_count": 14,
   "metadata": {
    "collapsed": false
   },
   "outputs": [],
   "source": [
    "counter_title = counter_batch(titles, 1000)\n",
    "counter_content = counter_batch(contents, 1000)"
   ]
  },
  {
   "cell_type": "code",
   "execution_count": 20,
   "metadata": {
    "collapsed": false
   },
   "outputs": [],
   "source": [
    "counter = counter_title + counter_content"
   ]
  },
  {
   "cell_type": "code",
   "execution_count": 25,
   "metadata": {
    "collapsed": false
   },
   "outputs": [],
   "source": [
    "counter_sorted = counter.most_common()"
   ]
  },
  {
   "cell_type": "code",
   "execution_count": 45,
   "metadata": {
    "collapsed": true
   },
   "outputs": [],
   "source": [
    "out_words = ['\\u3000', '\\n', '叠', '矗', '…', '猓', '措', '辏', 'ū', '梗', '髡', '螅', 'ぃ', '恚', '」', 'ǖ', \n",
    " '埽', 'ǎ', '欤', '菹', '硎', '氖', '觯', 'ü', '蛱', '煜', '纾', 'ā', '鳎', '穑', '⒉', '菔', '鋈', '┦', '耙', '∈', '冢', \n",
    " 'ぷ', '刂', 'ㄔ', 'ㄖ', '⒐', 'ツ', '獯', '⑾', '⒁', '『', '⑸', '〕', '｝', '∥', 'ǜ', '窬', '阒', '攵', '樯',\n",
    " '崾', '⒆', '〗', '∽', '≡', '鍪', '∩', '∪', '詈', '笾', '〖', '「', '芏', '钅', '⌒', 'ノ', '』', '⒏', 'γ',\n",
    " 'と', '⒌', 'ㄊ', '≌', '肀', '∏', '〔', '觳', '嗾', '丶', '⒎', '⒄', '嘌', '魇', 'ㄉ', '缃', '罱', '⑿',\n",
    " 'ㄐ', '焐', '刈', '袢', '嫠', '庋', '⊥', '⒍', 'Γ', '椤', '炱', '〈', '∠', '叻', '⊙', '↓', '⒅', '⑹', '┮',\n",
    " '⒈', '鄹', 'ば', '畲', '葜', '⒒', 'Ω', '诔', 'Ю', '∧', '∑', '±', 'ㄎ', '┍', 'ど', '∫', '⑷', '氲', '蠹', \n",
    " 'ǘ', '┐', '涞', 'Φ', '┑', '曛', '乇', '∷', '⑼', '┯', '⒀', '虺', 'ぜ', '∮', 'さ', '谠', '⒑', '龀', '匦', \n",
    " '跸', '醯', '瘛', '÷', '苁', '⑽', 'ㄈ', '⒂', '√', '⒚', '┗', 'ǔ', '＿', 'ê', '┕', 'т', 'サ', '⒔', 'し', \n",
    " '蠖', '闶', '萑', '⒗', '甏', '臁', '罴', 'な', '卣', 'ú', '⒋', '庀', 'ひ', '⒊', 'ㄌ', 'ナ', 'г', '⒕', 'и', \n",
    " '⒓', 'ぁ', '鼗', '鞴', 'て', '┲', '亍', 'そ', '┤', 'ǚ', '⑻', 'ㄓ', '┛', '菝', '厣', 'ィ', 'ㄆ', 'ド', '匚', \n",
    " 'ざ', '鼙', '┪', '⒘', '⒖', 'ㄋ', 'だ', '厶', '鹾', 'ぞ', '┓', '┌', '蟪', '┏', 'β', 'ò', 'ご', 'Ψ', '⑵', \n",
    " '┟', '⑺', 'δ', '亓', '⒃', '⑶', 'ㄇ', 'τ', '┥', 'κ', 'に', 'げ', '┰', '┩', '┒', 'м', '＆', '艹', '⒛', \n",
    " 'Ъ', 'ù', '饣', 'ν', '宀', 'ぱ', 'シ', 'ぐ', 'ッ', '嘏', 'ぢ', 'н', 'ι', 'ψ', 'П', 'せ', '砉', '┳', 'ね', '⒙', \n",
    " 'Ч', '劢', 'ぶ', '凵', '‰', '┢', '窳', '┎', '┨', '└', '虿', '⑴', '┠', '廴', 'д', '┖', '┝', '┘', 'Τ', \n",
    " '┧', 'Э', 'じ', '┬', '醭', '嬲', 'ㄕ', 'ァ', 'ぴ', '罨', '罾', '辶', 'け', 'к', '酃', '°', 'す', '┙', '┫', '┚', \n",
    " '乜', 'ス', 'つ', 'α', '薹', 'ザ', 'Ы', 'θ', '癯', 'й', '橥', 'ふ', '庹', 'の', '敫', '扌', 'た', '髟', 'ち', 'б', \n",
    " '├', 'っ', 'ず', 'で', 'Ц', 'ㄅ', 'ё', 'び', '♀', 'Ⅱ', 'チ', 'は', 'Σ', 'ρ', 'Щ', 'π', '┱', '夂', 'セ', '攴', \n",
    " 'ソ', 'Ф', 'Ь', '镄', 'コ', '~', '雠', '榱', 'ハ', 'ゲ', 'σ', 'φ', '┭', 'ь', 'ケ', 'ゼ', '|', 'パ', 'ヂ', 'Π',  \n",
    " '｜', 'ダ', 'Я', '┞', 'ブ', 'ξ', 'Ⅲ', '衤', 'ヒ', 'ズ', 'プ', '┣', 'ゴ', 'η', 'ぬ', 'ヅ', 'づ', 'ε', '＼', 'タ', \n",
    " 'п', ']', 'μ', '湔', 'Ш', '¨', 'ジ', 'Ⅳ', '┡', '→', 'ゾ', 'ヌ', 'ピ', 'バ', '○', 'ζ', 'フ', 'ネ', '廾', '△', \n",
    " 'ビ', '仂', 'デ', 'л', '●', 'テ', '`', '≥', 'я', 'グ', '＾', '{', '①', '\\\\', '¤', 'ц', '♂', '≤', 'К']"
   ]
  },
  {
   "cell_type": "code",
   "execution_count": 46,
   "metadata": {
    "collapsed": false,
    "scrolled": false
   },
   "outputs": [],
   "source": [
    "out_words += [x for x, _ in list(counter_sorted[6000:])]\n",
    "out_words = list(set(out_words))"
   ]
  },
  {
   "cell_type": "code",
   "execution_count": 47,
   "metadata": {
    "collapsed": false
   },
   "outputs": [],
   "source": [
    "def get_replace(string):\n",
    "    for o in out_words:\n",
    "        string = string.replace(o, '')\n",
    "    return string"
   ]
  },
  {
   "cell_type": "code",
   "execution_count": 48,
   "metadata": {
    "collapsed": false
   },
   "outputs": [],
   "source": [
    "for i in range(len(titles)):\n",
    "    titles[i] = get_replace(titles[i])\n",
    "    contents[i] = get_replace(contents[i])"
   ]
  },
  {
   "cell_type": "code",
   "execution_count": 60,
   "metadata": {
    "collapsed": true
   },
   "outputs": [],
   "source": [
    "with open('../output_new.txt', 'w', encoding='utf-8') as f:\n",
    "    for i in range(len(titles)):\n",
    "        f.write(titles[i] + '\\t' + urls[i] + '\\t' + docnos[i] + '\\t' + contents[i] + '\\n')"
   ]
  },
  {
   "cell_type": "code",
   "execution_count": 61,
   "metadata": {
    "collapsed": true
   },
   "outputs": [],
   "source": [
    "titles_n, urls_n, docnos_n, contents_n = read_data('../output_new.txt')"
   ]
  },
  {
   "cell_type": "code",
   "execution_count": 62,
   "metadata": {
    "collapsed": false
   },
   "outputs": [
    {
     "data": {
      "text/plain": [
       "1143520"
      ]
     },
     "execution_count": 62,
     "metadata": {},
     "output_type": "execute_result"
    }
   ],
   "source": [
    "len(titles_n)"
   ]
  },
  {
   "cell_type": "code",
   "execution_count": 63,
   "metadata": {
    "collapsed": true
   },
   "outputs": [],
   "source": [
    "counter_title_n = counter_batch(titles_n, 1000)\n",
    "counter_content_n = counter_batch(contents_n, 1000)\n",
    "counter_n = counter_title_n + counter_content_n\n",
    "counter_sorted_n = counter_n.most_common()"
   ]
  },
  {
   "cell_type": "code",
   "execution_count": 64,
   "metadata": {
    "collapsed": false
   },
   "outputs": [
    {
     "data": {
      "text/plain": [
       "5580"
      ]
     },
     "execution_count": 64,
     "metadata": {},
     "output_type": "execute_result"
    }
   ],
   "source": [
    "len(counter_sorted_n)"
   ]
  }
 ],
 "metadata": {
  "kernelspec": {
   "display_name": "Python 3",
   "language": "python",
   "name": "python3"
  },
  "language_info": {
   "codemirror_mode": {
    "name": "ipython",
    "version": 3
   },
   "file_extension": ".py",
   "mimetype": "text/x-python",
   "name": "python",
   "nbconvert_exporter": "python",
   "pygments_lexer": "ipython3",
   "version": "3.5.3"
  }
 },
 "nbformat": 4,
 "nbformat_minor": 2
}
